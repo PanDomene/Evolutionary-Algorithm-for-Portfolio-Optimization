{
 "cells": [
  {
   "cell_type": "code",
   "execution_count": 1,
   "id": "954cedf0-9fe1-471d-8729-d14d445a153b",
   "metadata": {},
   "outputs": [],
   "source": [
    "import numpy as np\n",
    "import pandas as pd\n",
    "import EA_funcs as eva\n",
    "import matplotlib.pyplot as plt\n",
    "import seaborn as sns\n",
    "from tqdm.notebook import tqdm, trange"
   ]
  },
  {
   "cell_type": "code",
   "execution_count": null,
   "id": "af3337b8-750e-47e4-96d9-cb0f9d5334c8",
   "metadata": {},
   "outputs": [],
   "source": [
    "benchmark_return = 0.14\n",
    "benchmark_risk = 0.16"
   ]
  },
  {
   "cell_type": "code",
   "execution_count": null,
   "id": "c1426978-87c9-4ea6-aa05-2a8149498c62",
   "metadata": {},
   "outputs": [],
   "source": [
    "data = eva.all_data\n",
    "\n",
    "returns = data.pct_change().dropna()\n",
    "cumulative = (1 + returns).cumprod() - 1\n",
    "\n",
    "final_returns = cumulative.iloc[-1]\n",
    "top_performers = final_returns.sort_values(ascending=False)\n",
    "top_performers = top_performers[top_performers>1].index\n",
    "data = data.drop(columns=top_performers)\n",
    "\n",
    "split = int(0.7 * len(data))\n",
    "train_data = data[:split]\n",
    "test_data = data[split:]"
   ]
  },
  {
   "cell_type": "markdown",
   "id": "1d0dc8ff-ef1e-4d96-8076-85043fdcaaa5",
   "metadata": {},
   "source": [
    "## Preliminary EA test\n",
    "\n",
    "Here we simply evolve a population over a few generations using the set of stable assets without performing any parameter tuning."
   ]
  },
  {
   "cell_type": "code",
   "execution_count": null,
   "id": "985e44f9-a463-48a1-9f41-7e66b1622442",
   "metadata": {},
   "outputs": [],
   "source": [
    "test = eva.EA(train_data, max_risk=benchmark_risk)\n",
    "test.run(50)\n",
    "best = test.best_chrom"
   ]
  },
  {
   "cell_type": "code",
   "execution_count": null,
   "id": "09ae67e9-fdee-451e-9aa0-6e972d1cbf33",
   "metadata": {},
   "outputs": [],
   "source": [
    "eva.test_portfolio_weights(best, train_data, test_data);"
   ]
  },
  {
   "cell_type": "markdown",
   "id": "adeb3dcb-37fb-4364-9b78-3a57a6ca26c9",
   "metadata": {},
   "source": [
    "The following shows that constraints are mostly satisfied:\n",
    "\n",
    "- All genes sum up to 1 for each chromosome, and in particular in the best solution.\n",
    "- All genes except for one are below the maximum weight allowed. This indicates that asset must have been very strong, in order to survive despite penalization.\n",
    "- There are no negative genes"
   ]
  },
  {
   "cell_type": "code",
   "execution_count": null,
   "id": "782ed800-2a87-452b-b773-c5d6beb8e277",
   "metadata": {},
   "outputs": [],
   "source": [
    "print('sum of genes in best solution: ', best.sum())\n",
    "print('sum of all genes in population: ', test.population[:,:-1].sum(),\n",
    "                                                  f'(pop size={test.pop_size})')\n",
    "print(f\"Max gene weight violations in best portfolio: {(test.best_chrom > test.max_w).sum()}\")\n",
    "print(f\"Max gene weight violations in population: {(test.population[:, :-1] > test.max_w).sum()}\")\n",
    "print(f\"no negative weights in the population:\", np.all(test.population>=0))"
   ]
  },
  {
   "cell_type": "markdown",
   "id": "42353887-57a1-4373-bea0-25dcda1bffdb",
   "metadata": {},
   "source": [
    "We can also see that the population is quickly converging, which reinforces our election to use a uniform parent selection, limiting the selection pressure that could otherwise lead to premature convergence. Also, it can be appreciated that the mutation operator keeps introducing diversity in the population even in later stages of the evolution, which drives further improvements even if diversity is already low."
   ]
  },
  {
   "cell_type": "code",
   "execution_count": null,
   "id": "2ba256f3-f3b2-45aa-bbca-b6322b8731a3",
   "metadata": {},
   "outputs": [],
   "source": [
    "fig, axs = plt.subplots(2, 1, figsize=(6, 5), sharex=True)\n",
    "test.plot_diversity(ax=axs[0])\n",
    "test.plot_fitness(ax=axs[1])\n",
    "plt.tight_layout\n",
    "plt.savefig('evolution.jpg')"
   ]
  },
  {
   "cell_type": "markdown",
   "id": "83072d5c-4c5b-45e4-8f14-e493d2950834",
   "metadata": {
    "id": "Q3APdsgfe47O"
   },
   "source": [
    "### Performance\n",
    "\n",
    "As for performance metrics, we can confirm this naive application isn't giving the greatest results, although not the worst either. At least the generated porfolios don't make us lose any money. \n",
    "\n",
    "#### MBF (mean best fitness)"
   ]
  },
  {
   "cell_type": "code",
   "execution_count": null,
   "id": "2d3c6324-928c-4828-8792-a5630c98e08d",
   "metadata": {
    "colab": {
     "base_uri": "https://localhost:8080/"
    },
    "id": "FhA15t5w1B6Z",
    "outputId": "b4554016-2acd-4736-c72f-8fb5c0ecfea4"
   },
   "outputs": [],
   "source": [
    "best_returns, risks = eva.MBF(train_data, test_data, runs=20, max_risk=benchmark_risk, generations=25)"
   ]
  },
  {
   "cell_type": "markdown",
   "id": "fbdbf810-ae20-4b28-bf1c-08dd1e8629e2",
   "metadata": {
    "id": "76rEMz45rUNH"
   },
   "source": [
    "#### AES (Average fitness Evaluations to Solution) + SR (Success Rate)\n",
    "\n",
    "Only around 20% of the time does this un-tuned application of the EA surpass the VMEX benchmark."
   ]
  },
  {
   "cell_type": "code",
   "execution_count": null,
   "id": "d54176ce-1243-493a-bc9c-e9509c835a8b",
   "metadata": {
    "id": "RC9gj6ZhglG4"
   },
   "outputs": [],
   "source": [
    "evals, returns, risks = eva.AES_SR(train_data, test_data, \n",
    "                                   solution=(benchmark_return, benchmark_risk), \n",
    "                                   runs=50, plot=True, max_risk=benchmark_risk)"
   ]
  },
  {
   "cell_type": "markdown",
   "id": "2c252ef8-e761-41f8-8a3d-737460006b6c",
   "metadata": {
    "id": "LH17m9BYYncG"
   },
   "source": [
    "# Parameter Selection\n",
    "\n",
    "Next we perform a series of experiments to try and tune in the values for the main algorithm parameters. \n",
    "\n",
    "For this purpose we will start with exploring the effect of allowing for a larger vs. a smaller diversification, which is controlled by the parameter `w_max`: the maximum weight per asset, starting with $1/\\text{\\# of assets}$, which should return something close the equal weights porfolio."
   ]
  },
  {
   "cell_type": "code",
   "execution_count": null,
   "id": "134589e9-64d2-4612-b287-6ecbf2b3b8e8",
   "metadata": {},
   "outputs": [],
   "source": [
    "# Define the range of max_w values to test\n",
    "w_start = 1/(0.5 * test_data.shape[1])\n",
    "ws = np.linspace(w_start, 0.2, 100)\n",
    "\n",
    "# Compute test set daily returns\n",
    "test_returns = test_data.pct_change().dropna()\n",
    "\n",
    "# Compute training-set covariance matrix (for risk estimation)\n",
    "cov_matrix = train_data.pct_change().dropna().cov()\n",
    "\n",
    "returns = []\n",
    "risks = []\n",
    "\n",
    "# Loop over each max_w value\n",
    "for w in tqdm(ws, desc=\"Sweeping max_w\"):\n",
    "    # Initialize and run the EA on training data\n",
    "    ea = eva.EA(train_data, max_w=w)\n",
    "    ea.run(25)\n",
    "    \n",
    "    # Compute out-of-sample return (realized return on test set)\n",
    "    actual_return = 100 * ea.test_returns(test_data, ea.best_chrom)[0]\n",
    "    \n",
    "    # Compute in-sample risk using training covariance matrix\n",
    "    model_risk = 100 * ea.volatility(ea.best_chrom)\n",
    "\n",
    "    # Store both\n",
    "    returns.append(actual_return)\n",
    "    risks.append(model_risk)"
   ]
  },
  {
   "cell_type": "markdown",
   "id": "50407a79-5d5e-48b9-aaac-6f43f8ebf15f",
   "metadata": {},
   "source": [
    "We can clearly see that allowing for higher weights per asset resulted in riskier portfolios, which in general didn't perform too well when put to the test against future, unseen, data. \n",
    "\n",
    "In contrast, portfolio with a smaller allowed maximum weight per asset had a smaller training risk, and performed a lot better on the training set.\n",
    "\n",
    "This confirms the maxim that diversification is usually the way to go. With this in mind, going forward we'll be using a w_max of 0.05."
   ]
  },
  {
   "cell_type": "code",
   "execution_count": null,
   "id": "f39c160f-c176-4558-9506-875668a8e7f0",
   "metadata": {},
   "outputs": [],
   "source": [
    "# Plot risk-return points, colored by max_w\n",
    "fig, ax = plt.subplots(figsize=(6, 6))\n",
    "scatter = ax.scatter(risks, returns, c=ws, cmap='viridis', s=30)\n",
    "cbar = fig.colorbar(scatter, ax=ax)\n",
    "cbar.set_label('max_w')\n",
    "\n",
    "ax.set_title(r'Effect of `max_w` on Portfolio Risk and Return')\n",
    "ax.set_xlabel('Risk (%, Estimated from Training Data)')\n",
    "ax.set_ylabel('Realized Return on Test Data (%)')\n",
    "ax.grid(True, linestyle='--', alpha=0.5)\n",
    "\n",
    "plt.tight_layout()\n",
    "plt.savefig(\"max_w__effect.jpg\")"
   ]
  },
  {
   "cell_type": "markdown",
   "id": "25b69087-a986-4f8b-ba28-51f85edc3b3b",
   "metadata": {
    "id": "cNF5ZdMUd0SG"
   },
   "source": [
    "# Returns for different $\\delta$ (risk vs. returns prioritization)"
   ]
  },
  {
   "cell_type": "code",
   "execution_count": null,
   "id": "662d129a-0490-4b94-ac8f-131e2b5756e2",
   "metadata": {
    "id": "jCcFMfFbYmDj"
   },
   "outputs": [],
   "source": [
    "ks = [0, 0.2, 0.4, 0.5, 0.6, 0.8, 1]\n",
    "for k in tqdm(ks, desc=r\"Testing different $\\delta$s\"):\n",
    "    ea = eva.EA(train_data, delta=k, max_w=0.05, max_risk=benchmark_risk)\n",
    "    ea.run(25)\n",
    "    ea.plot_max_fitness(label=f'{k}')\n",
    "plt.legend(bbox_to_anchor=(1, 1.02), title=r'$\\delta$')\n",
    "\n",
    "plt.title('Max fitness evolution')\n",
    "plt.xlabel('Generation')\n",
    "plt.tight_layout()\n",
    "#plt.savefig('fitness_evolution_vs_k.jpg')"
   ]
  },
  {
   "cell_type": "code",
   "execution_count": null,
   "id": "5195a71f-ead3-4df2-b0ca-e4c93743acd4",
   "metadata": {
    "id": "zr8aWc0GYB2o"
   },
   "outputs": [],
   "source": [
    "fig, ax = plt.subplots(1, 2, figsize=(7, 4))\n",
    "deltas = [0, 0.2, 0.4, 0.5, 0.6, 0.8, 1]\n",
    "for delta in tqdm(deltas):\n",
    "    ea = eva.EA(train_data, delta=delta, max_w=0.05)\n",
    "    returns = []\n",
    "    risks = []\n",
    "    for i in range(50):\n",
    "        ea.run(1)\n",
    "        returns.append(ea.test_returns(test_data, ea.best_chrom)[0])\n",
    "        risks.append(100 * ea.volatility(ea.best_chrom))\n",
    "    ax[0].plot(returns)\n",
    "    ax[1].plot(risks, label=delta)"
   ]
  },
  {
   "cell_type": "code",
   "execution_count": null,
   "id": "87f85530-ef67-4aa6-9989-9c12d7455edd",
   "metadata": {},
   "outputs": [],
   "source": [
    "plt.legend(bbox_to_anchor=(1, 1.02), title=r'$\\delta$')\n",
    "ax[0].set_ylabel('Test Realized Return')\n",
    "ax[1].set_ylabel('Training Risk')\n",
    "ax[0].set_xlabel('Generation')\n",
    "ax[1].set_xlabel('Generation')\n",
    "ax[0].set_title('Evolution of \\nTest Realized Return')\n",
    "ax[1].set_title('Evolution of risk')\n",
    "plt.tight_layout()\n",
    "plt.savefig('delta_effect_evolution.jpg')"
   ]
  },
  {
   "cell_type": "code",
   "execution_count": null,
   "id": "c0c48bf9-e1bc-4e66-a2a7-22076358be31",
   "metadata": {
    "scrolled": true
   },
   "outputs": [],
   "source": [
    "deltas = np.linspace(0, 1, 10)\n",
    "returns = []\n",
    "risks = []\n",
    "\n",
    "for delta in tqdm(deltas):\n",
    "    ea = eva.EA(train_data, delta=delta, max_w=0.05)\n",
    "    ea.run(25)\n",
    "    actual_return = 100 * ea.test_returns(test_data, ea.best_chrom)[0]\n",
    "    risk = 100 * ea.volatility(ea.best_chrom)\n",
    "    returns.append(actual_return)\n",
    "    risks.append(risk)"
   ]
  },
  {
   "cell_type": "code",
   "execution_count": null,
   "id": "fb04213c-54d8-4fe2-aa90-a37abfa6ca20",
   "metadata": {},
   "outputs": [],
   "source": [
    "fig, ax1 = plt.subplots()\n",
    "\n",
    "# Primary y-axis for returns\n",
    "ax1.plot(ks, returns, color='cornflowerblue')\n",
    "ax1.set_ylabel('Test Realized Return', color='cornflowerblue')\n",
    "ax1.tick_params(axis='y', labelcolor='cornflowerblue')\n",
    "\n",
    "# Secondary y-axis for risks\n",
    "ax2 = ax1.twinx()\n",
    "ax2.plot(ks, risks, color='firebrick')\n",
    "ax2.set_ylabel('Training Risk', color='firebrick')\n",
    "ax2.tick_params(axis='y', labelcolor='firebrick')\n",
    "\n",
    "# Shared x-axis\n",
    "ax1.set_xlabel(\"Smaller $\\delta$: prioritizes large return\\nLarger $\\delta$: prioritizes small risk\")\n",
    "\n",
    "# Title and layout\n",
    "plt.title(r'$\\delta$ (Risk–Return Tradeoff)')\n",
    "fig.tight_layout()\n",
    "plt.savefig('risk–return_tradeoff.jpg')"
   ]
  },
  {
   "cell_type": "code",
   "execution_count": null,
   "id": "876f7b6c-f740-4fec-84de-42cffb172593",
   "metadata": {},
   "outputs": [],
   "source": []
  },
  {
   "cell_type": "code",
   "execution_count": null,
   "id": "3fb3bf5e-1911-45df-97c7-04ae6a3d57f0",
   "metadata": {},
   "outputs": [],
   "source": []
  },
  {
   "cell_type": "code",
   "execution_count": null,
   "id": "d2eaefed-32f2-412b-bd87-5ff82fc07d6b",
   "metadata": {},
   "outputs": [],
   "source": []
  },
  {
   "cell_type": "markdown",
   "id": "27f4bf24-e3c3-4493-93dc-0141f106614a",
   "metadata": {
    "id": "fDheONKZgtn5"
   },
   "source": [
    "### MBF for different $\\delta$."
   ]
  },
  {
   "cell_type": "code",
   "execution_count": null,
   "id": "23302138-c07e-4ea7-806c-11d601fee4b0",
   "metadata": {
    "id": "h0lE8LQ5YmAp"
   },
   "outputs": [],
   "source": [
    "deltas = np.linspace(0, 1, 11)\n",
    "mbfs = np.empty(ks.shape)\n",
    "for i, delta in enumerate(deltas):\n",
    "    mbf = MBF(EA, best100, runs=5, delta=delta, max_w=0.05).mean()\n",
    "    mbfs[i] = mbf\n",
    "\n",
    "plt.plot(ks, mbfs)\n",
    "plt.xlabel(r'$\\delta$')\n",
    "plt.ylabel('MBF')\n",
    "plt.title('MBF Según la Tolerancia al Riesgo')\n",
    "plt.savefig('MBF_vs_delta.jpg')\n",
    "files.download(\"MBF_vs_delta.jpg\")"
   ]
  },
  {
   "cell_type": "markdown",
   "id": "cbfcf4e6-4358-4463-9905-db2bc10f5471",
   "metadata": {
    "id": "Rvd7IjsVp1kb"
   },
   "source": [
    "### Fitness vs. Risk for different $\\rho$ (mutation rate)"
   ]
  },
  {
   "cell_type": "code",
   "execution_count": null,
   "id": "deb2d2b6-d64d-43b4-9f63-2353642718d7",
   "metadata": {
    "id": "VxB2ryBeYl97"
   },
   "outputs": [],
   "source": [
    "rho = np.linspace(0, 1, 11)\n",
    "returns = np.empty(rho.shape)\n",
    "risks = np.empty(rho.shape)\n",
    "for i, ro in enumerate(ro):\n",
    "    ea = EA(best100, rho=ro, max_w=0.07)\n",
    "    ea.run(50)\n",
    "    best = ea.population[np.argmax(ea.pop_fitness)][:-1]\n",
    "    _, r, risk = ea.fitness(best)\n",
    "    returns[i] = r\n",
    "    risks[i] = risk"
   ]
  },
  {
   "cell_type": "code",
   "execution_count": null,
   "id": "7a285586-b10a-4a2e-9eb8-6d4dee2cc95d",
   "metadata": {},
   "outputs": [],
   "source": [
    "plt.plot(risks, returns, ':')\n",
    "sns.scatterplot(x=risks, y=returns, hue=ks, palette='viridis', s=80)\n",
    "plt.xlabel('Riesgo')\n",
    "plt.ylabel('Retorno Esperado')\n",
    "plt.title('Retorno Esperado vs. Riesgo de la Cartera \\npara Distintos Valores de $k$')\n",
    "plt.savefig('fit_vs_risk_vs_rho.jpg')"
   ]
  },
  {
   "cell_type": "markdown",
   "id": "0a757500-ebb2-4c6e-9e18-b5877a15ec17",
   "metadata": {
    "id": "2k6Nc-aYpz6e"
   },
   "source": [
    "### Evolución de diversidad para distintas tasas de mutación ($p_m$)"
   ]
  },
  {
   "cell_type": "code",
   "execution_count": null,
   "id": "fce379f5-4126-4c85-846b-1ae854325126",
   "metadata": {
    "id": "bYA0Ss5CqFLS"
   },
   "outputs": [],
   "source": [
    "pm = [0.0001, 0.005, 0.01, 0.02, 0.05, 0.2]\n",
    "\n",
    "for i, p in enumerate(pm):\n",
    "    ea = EA(best100, max_w=0.07, p_m = p)\n",
    "    ea.run(50)\n",
    "    fit = ea.max_fit_history\n",
    "    gens = range(len(fit))\n",
    "    plt.plot(gens, fit, label=p)\n",
    "plt.xlabel('Generación')\n",
    "plt.ylabel('Fitness')\n",
    "plt.legend(bbox_to_anchor=(1, 1.02), title=r'$p_m$')\n",
    "plt.suptitle('Fitness para Distintas Tasas de Mutación')\n",
    "plt.tight_layout()\n",
    "plt.savefig('fitness_vs_pm.jpg')\n",
    "files.download('fitness_vs_pm.jpg')"
   ]
  },
  {
   "cell_type": "markdown",
   "id": "c642f443-a969-4904-8719-c87e9e90c05b",
   "metadata": {
    "id": "535G2t_Nw7Gg"
   },
   "source": [
    "# Pruebas de Robustez\n",
    "\n",
    "### Respecto a diferentes activos"
   ]
  },
  {
   "cell_type": "code",
   "execution_count": null,
   "id": "f425e78a-4e80-4049-84e2-1241a6c6d967",
   "metadata": {
    "id": "HFkVVcrNnNYw"
   },
   "outputs": [],
   "source": [
    "fits = asset_robustness(data=all_data, sample_size=100, pop_size=1000,\n",
    "                        lambda_=6000, generations=50, max_w=0.07, p_m=0.05)\n",
    "plt.title('Prueba de Robustez para Distintos Grupos de Activos')\n",
    "plt.xlabel('Generación')\n",
    "plt.tight_layout()\n",
    "plt.savefig('asset_robustness.jpg')\n",
    "files.download('asset_robustness.jpg')\n",
    "fits"
   ]
  },
  {
   "cell_type": "markdown",
   "id": "b795a9ad-09ff-4f70-927c-6c6c5487eaea",
   "metadata": {
    "id": "ilL_YJKMxB5z"
   },
   "source": [
    "### Respecto a distintos periodos de tiempo"
   ]
  },
  {
   "cell_type": "code",
   "execution_count": null,
   "id": "f0e00cc2-98dd-44c5-bd85-6f4045a9466d",
   "metadata": {
    "id": "kkzA0dg8wYNK"
   },
   "outputs": [],
   "source": [
    "fits = time_robustness(data=all_data, periods=6, pop_size=1000,\n",
    "                        lambda_=6000, generations=50, max_w=0.07, p_m=0.05)\n",
    "plt.title('Prueba de Robustez para Distintos Periodos de Tiempo')\n",
    "plt.xlabel('Generación')\n",
    "plt.tight_layout()\n",
    "plt.savefig('time_robustness.jpg')\n",
    "files.download('time_robustness.jpg')\n",
    "fits"
   ]
  },
  {
   "cell_type": "code",
   "execution_count": null,
   "id": "c2d8eb16-d2fb-49c5-be76-845d138609a3",
   "metadata": {
    "id": "EZMg_kbI6-V2"
   },
   "outputs": [],
   "source": [
    "best_fits = []\n",
    "ps = [10, 25, 50, 100, 250, 500, 1000]\n",
    "for p in ps:\n",
    "    ea = EA(best100, pop_size=p, lambda_=6*p, p_m=0.05, max_w=0.07,\n",
    "            testing=False)\n",
    "    ea.run(int(100/np.log10(p)))\n",
    "    print(p, 'done')\n",
    "    best_fits.append(ea.pop_fitness.max())\n",
    "plt.plot(ps, best_fits)\n",
    "plt.title(r'Fitness Máximo vs. $\\mu$')\n",
    "plt.xscale('log')\n",
    "plt.xlabel(r'$\\mu$')\n",
    "plt.ylabel('Fitness')\n",
    "plt.tight_layout()\n",
    "plt.savefig('fit_vs_pop_size.jpg')\n",
    "files.download('fit_vs_pop_size.jpg')"
   ]
  },
  {
   "cell_type": "code",
   "execution_count": null,
   "id": "13ec34d2-c759-48a5-af7a-cd64002e02e5",
   "metadata": {
    "id": "992CPY7-GQta"
   },
   "outputs": [],
   "source": [
    "fits1, returns1, risks1 = MBF(EA, best100, p_m=0.05, max_w=0.07, pop_size=1000,\n",
    "                           delta=0.51, lambda_=6000, runs=10, generations=50)"
   ]
  },
  {
   "cell_type": "code",
   "execution_count": null,
   "id": "351a9641-4a89-41aa-9df8-02403f1f455d",
   "metadata": {
    "id": "Ukt3hGV3qsK_"
   },
   "outputs": [],
   "source": [
    "returns1.mean(), returns1.std()"
   ]
  },
  {
   "cell_type": "code",
   "execution_count": null,
   "id": "33032797-5c2c-4c78-964f-2d2b2b83d638",
   "metadata": {
    "id": "3kfr39BbqwmW"
   },
   "outputs": [],
   "source": [
    "risks1.mean(), risks1.std()"
   ]
  },
  {
   "cell_type": "code",
   "execution_count": null,
   "id": "cb416ee6-7ffb-4795-afc2-2ca7a429537d",
   "metadata": {
    "id": "_xHZ72OWqc0S"
   },
   "outputs": [],
   "source": [
    "evals2, returns2, risks2 = AES_SR(EA, best100, solution=0.208, max_risk=0.181,\n",
    "                               max_gens=50, p_m=0.05, max_w=0.07, delta=0.51,\n",
    "                               pop_size=1000, lambda_=6000, runs=30)"
   ]
  },
  {
   "cell_type": "code",
   "execution_count": null,
   "id": "1fface8d-7dcb-4e94-9224-b123f1f86473",
   "metadata": {
    "id": "3YlTUdXMq1cx"
   },
   "outputs": [],
   "source": []
  },
  {
   "cell_type": "code",
   "execution_count": null,
   "id": "c339b2a5-650f-4c80-95f3-b090b3e8bec2",
   "metadata": {
    "id": "3vatDR0WeJMC"
   },
   "outputs": [],
   "source": [
    "plt.scatter(risks2, returns2)\n",
    "plt.xlabel('Riesgo')\n",
    "plt.ylabel('Retorno Esperado')\n",
    "plt.title('Resultados de la Prueba de Desempeño')\n",
    "plt.tight_layout()\n",
    "plt.savefig('resultados.jpg')\n",
    "files.download('resultados.jpg')"
   ]
  },
  {
   "cell_type": "code",
   "execution_count": null,
   "id": "7b0c9fd4-c7c0-4779-a23d-c174773ddd25",
   "metadata": {
    "id": "FvTACQTzt0IY"
   },
   "outputs": [],
   "source": [
    "test = EA(best100, p_m=0.05, max_w=0.07, pop_size=2000, lambda_=12000, delta=0.51)\n",
    "best = test.population[np.argmax(test.pop_fitness)][:-1]\n",
    "test.fitness(best)"
   ]
  },
  {
   "cell_type": "code",
   "execution_count": null,
   "id": "23525262-df9f-4014-aa69-a211777d6799",
   "metadata": {
    "id": "qh1bviu0zhwY"
   },
   "outputs": [],
   "source": []
  },
  {
   "cell_type": "code",
   "execution_count": null,
   "id": "4483dafc-d05d-490b-beac-2b7328c745b1",
   "metadata": {
    "id": "0BjgfqBANTKv"
   },
   "outputs": [],
   "source": [
    "test.run(1)"
   ]
  },
  {
   "cell_type": "code",
   "execution_count": null,
   "id": "793a52f4-2ec4-4967-a98a-fbdea37c3038",
   "metadata": {
    "id": "DiSvhgZ9zc4s"
   },
   "outputs": [],
   "source": [
    "best = test.population[np.argmax(test.pop_fitness)][:-1]\n",
    "test.fitness(best)"
   ]
  },
  {
   "cell_type": "code",
   "execution_count": null,
   "id": "1431cb9f-16ae-4286-b294-b3361f1e3048",
   "metadata": {
    "id": "1CMnktV3zgrq"
   },
   "outputs": [],
   "source": [
    "test.plot_fitness()\n",
    "plt.xlabel('Generación')\n",
    "plt.title('Fitness Medio y Máximo por Generación')\n",
    "plt.legend(labels=['Fitness promedio', 'Fitness Máximo'])\n",
    "plt.tight_layout()\n",
    "plt.savefig('ejemplo.jpg')\n",
    "files.download('ejemplo.jpg')"
   ]
  },
  {
   "cell_type": "code",
   "execution_count": null,
   "id": "d3d384ba-0024-4118-a8be-8e01394f005b",
   "metadata": {
    "id": "gFJhJZjHj4aY"
   },
   "outputs": [],
   "source": [
    "test.plot_diversity()\n",
    "plt.yscale('log')\n",
    "plt.xlabel('Generación')\n",
    "plt.ylabel('# de individuos distintos')\n",
    "plt.title('Evolución de la Diversidad de la Población')\n",
    "plt.tight_layout()\n",
    "plt.savefig('diversidad.jpg')\n",
    "files.download('diversidad.jpg')"
   ]
  },
  {
   "cell_type": "code",
   "execution_count": null,
   "id": "e645ed01-7249-4762-9e79-6547e57d3bc2",
   "metadata": {
    "id": "vnJ-jZDUj6Wq"
   },
   "outputs": [],
   "source": [
    "test.portfolio().T"
   ]
  },
  {
   "cell_type": "code",
   "execution_count": null,
   "id": "6c77c3a9-c326-4344-9a4f-4cd6c0006409",
   "metadata": {
    "id": "jgW_SxTnySnh"
   },
   "outputs": [],
   "source": [
    "best100.columns"
   ]
  }
 ],
 "metadata": {
  "kernelspec": {
   "display_name": "Python 3",
   "language": "python",
   "name": "python3"
  },
  "language_info": {
   "codemirror_mode": {
    "name": "ipython",
    "version": 3
   },
   "file_extension": ".py",
   "mimetype": "text/x-python",
   "name": "python",
   "nbconvert_exporter": "python",
   "pygments_lexer": "ipython3",
   "version": "3.11.9"
  }
 },
 "nbformat": 4,
 "nbformat_minor": 5
}
