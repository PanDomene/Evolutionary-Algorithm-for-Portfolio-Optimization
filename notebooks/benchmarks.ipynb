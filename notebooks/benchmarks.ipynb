{
 "cells": [
  {
   "cell_type": "code",
   "execution_count": 12,
   "id": "546e79f5-be15-4355-afa2-b9139aa3a366",
   "metadata": {},
   "outputs": [],
   "source": [
    "import numpy as np\n",
    "import pandas as pd\n",
    "import EA_funcs as ea"
   ]
  },
  {
   "cell_type": "markdown",
   "id": "03aa18f0-8f05-4442-9687-7cd65b57c2ff",
   "metadata": {},
   "source": [
    "## Portfolio generating mechanism:\n",
    "See `random_search()` in the `algorithms.py` file for the source code.\n",
    "Chromosomes of an adequate length are randomly generated and normalized so that all its elements (genes) sum to 1. Each gene represents the weight of the investment for its respective asset. Then follows a check for the constraints on maximum risk and maximum weight per asset. If these constraintsa are satisfied, the chromosome is added to the population, otherwise a new chromosome is generated. This process is repeated until the specified population size is reached. \n",
    "\n",
    "After the chromosomes are generated, the expected return can be obtained by performing its dot product with the vector of anual expected returns for the assets corresponding to the covariance matrix used to compute the risk during population creation.\n",
    "\n",
    "The next sections explore the returns and risks obtained by this method for different sets of assets.\n",
    "\n",
    "To simplify evaluation, we define the following functions:"
   ]
  },
  {
   "cell_type": "code",
   "execution_count": 143,
   "id": "ae8e5c54-f028-42a0-8f3c-146b9e1592e2",
   "metadata": {},
   "outputs": [],
   "source": [
    "# The expected returns for the portfolio\n",
    "def expected_returns(cromosome, returns):\n",
    "    return np.sum(cromosome * returns)\n",
    "\n",
    "# And the risk associated, expressed as a %\n",
    "def risk(chromosome, cov_matrix):\n",
    "    return 100 * np.sqrt(252 * chromosome.T @ cov_matrix @ chromosome)"
   ]
  },
  {
   "cell_type": "markdown",
   "id": "70394fbb-a2e4-470f-9ab4-c2c6b2b88f8e",
   "metadata": {},
   "source": [
    "## Totally random search\n",
    "\n",
    "Here we generate portfolios out of the whole search space, where all 402 assets are available. "
   ]
  },
  {
   "cell_type": "code",
   "execution_count": 145,
   "id": "484210cb-1ab7-4c67-b3b2-88507779c650",
   "metadata": {},
   "outputs": [
    {
     "name": "stdout",
     "output_type": "stream",
     "text": [
      "Expected return from portfolio #1: 0.08785280081298498\n",
      "Expected return from portfolio #2: 0.08205191450772095\n",
      "Expected return from portfolio #3: 0.07693205793962873\n",
      "Expected return from portfolio #4: 0.1005246121034525\n",
      "Expected return from portfolio #5: 0.09556933491283136\n"
     ]
    }
   ],
   "source": [
    "population = ea.random_search(ea.covariance_matrix)\n",
    "\n",
    "for i in range(5):\n",
    "    cromosome = population[i]\n",
    "    fit = expected_returns(cromosome, ea.anual_returns.values)\n",
    "    print(f\"Expected return from portfolio #{i+1}: {fit}\")"
   ]
  },
  {
   "cell_type": "code",
   "execution_count": 147,
   "id": "f958b1d2-abda-4186-92fc-c1749efc4fb0",
   "metadata": {},
   "outputs": [
    {
     "name": "stdout",
     "output_type": "stream",
     "text": [
      "best fitness in population: 0.154614\n",
      "with a risk of 12.334%\n"
     ]
    }
   ],
   "source": [
    "fitness_vals = np.zeros(len(population))\n",
    "for i, chromosome in enumerate(population):\n",
    "    fitness_vals[i] = expected_returns(chromosome, ea.anual_returns)\n",
    "\n",
    "best = population[np.argmax(fitness_vals)]\n",
    "print(f'best fitness in population: {round(fitness_vals.max(), 6)}')\n",
    "print(f'with a risk of {round(risk(best, ea.covariance_matrix), 3)}%')"
   ]
  },
  {
   "cell_type": "markdown",
   "id": "3766e598-ed63-4be3-b77d-7e8c9ac18215",
   "metadata": {},
   "source": [
    "## Semi-random search"
   ]
  },
  {
   "cell_type": "code",
   "execution_count": 71,
   "id": "0374ce70-3d01-486e-9b3d-6e9f89205be8",
   "metadata": {},
   "outputs": [
    {
     "data": {
      "text/plain": [
       "(41,)"
      ]
     },
     "execution_count": 71,
     "metadata": {},
     "output_type": "execute_result"
    }
   ],
   "source": [
    "random_ticks = np.random.choice(ea.tickers_NC, 15)\n",
    "random_ticks = np.append(tickers, np.random.choice(ea.tickers_IC, 16))\n",
    "random_ticks = np.append(tickers, np.random.choice(ea.tickers_F, 6))\n",
    "random_ticks = np.append(tickers, ea.tickers_BONDDIA)\n",
    "random_ticks = np.append(tickers, ea.tickers_CETES)\n",
    "random_ticks = np.append(tickers, ea.tickers_ENERFIN)\n",
    "\n",
    "random_ticks.shape"
   ]
  },
  {
   "cell_type": "code",
   "execution_count": 73,
   "id": "ff56727a-ad7d-4c3f-9b44-c2919fcff56a",
   "metadata": {},
   "outputs": [
    {
     "name": "stdout",
     "output_type": "stream",
     "text": [
      "best fitness in population: 0.235664195268253\n",
      "risk: 12.169%\n"
     ]
    }
   ],
   "source": [
    "random_anual_returns = ea.anual_returns[random_ticks]\n",
    "random_daily_returns = ea.daily_returns[random_ticks]\n",
    "random_closing_prices = ea.all_data[random_ticks]\n",
    "\n",
    "random_cov_matrix = random_daily_returns.cov()\n",
    "\n",
    "population = ea.random_search(random_cov_matrix)\n",
    "\n",
    "fitness_vals = np.zeros(len(population))\n",
    "for i, chromosome in enumerate(population):\n",
    "    fitness_vals[i] = expected_returns(chromosome, random_anual_returns)\n",
    "\n",
    "best = population[np.argmax(fitness_vals)]\n",
    "\n",
    "print(f'best fitness in population: {fitness_vals.max()}')\n",
    "print(f'risk: {round(risk(best, random_cov_matrix), 3)}%')"
   ]
  },
  {
   "cell_type": "markdown",
   "id": "0e9de11e-10a5-4028-9c3c-45a39be2bc96",
   "metadata": {},
   "source": [
    "## Deterministic search"
   ]
  },
  {
   "cell_type": "code",
   "execution_count": 74,
   "id": "01e549ff-425b-44f2-ac09-96e7916d2ce5",
   "metadata": {},
   "outputs": [
    {
     "name": "stdout",
     "output_type": "stream",
     "text": [
      "National\n",
      "               return/risk  anual return\n",
      "CHDRAUIB.MX      30.533351      0.502305\n",
      "LAMOSA.MX        29.922172      0.418857\n",
      "VISTAA.MX        27.913815      0.914456\n",
      "BAFARB.MX        24.591972      0.387490\n",
      "GPROFUT.MX       23.814817      0.294088\n",
      "PSOTRAC15.MX     22.536592      0.166068\n",
      "BBAJIOO.MX       22.288682      0.418751\n",
      "FRAGUAB.MX       20.984662      0.356001\n",
      "ALSEA.MX         20.428416      0.382220\n",
      "AC.MX            19.126087      0.256323\n",
      "LIVEPOL1.MX      18.766512      0.263872\n",
      "GENTERA.MX       18.669513      0.428172\n",
      "LIVEPOLC-1.MX    18.606501      0.282443\n",
      "CIEB.MX          18.532940      0.549310\n",
      "CMOCTEZ.MX       17.235585      0.150320\n",
      "\n",
      "International\n",
      "          return/risk  anual return\n",
      "LLY.MX      24.500471      0.465206\n",
      "NVDA.MX     20.369435      0.649226\n",
      "DELLC.MX    18.615024      0.532571\n",
      "STLD.MX     17.773125      0.425833\n",
      "ORLY.MX     17.257585      0.247057\n",
      "XLE.MX      16.726604      0.317184\n",
      "COP.MX      16.105865      0.379874\n",
      "XOM.MX      15.578893      0.324993\n",
      "AZO.MX      15.346208      0.289402\n",
      "MLM.MX      14.738664      0.221758\n",
      "VLO.MX      14.652325      0.395284\n",
      "DXJ.MX      14.315645      0.179339\n",
      "DVN.MX      14.157772      0.440032\n",
      "FTNT.MX     12.159422      0.356883\n",
      "ITB.MX      12.086941      0.199594\n",
      "BRKB.MX     11.910630      0.148439\n",
      "\n",
      "FIBRAS\n",
      "              return/risk  anual return\n",
      "FNOVA17.MX      20.528736      0.241240\n",
      "FIHO12.MX       15.112598      0.318168\n",
      "TERRA13.MX      13.093698      0.211706\n",
      "FUNO11.MX       11.265176      0.194757\n",
      "FIBRAPL14.MX    10.562495      0.191325\n",
      "FIBRAMQ12.MX     9.099071      0.156553\n",
      "\n",
      "BONDDIA\n",
      "               return/risk  anual return\n",
      "BONDDIAPF2.MX   311.744974      0.075671\n",
      "\n",
      "CETES\n",
      "           return/risk  anual return\n",
      "CETES365  9.622838e+14        0.1103\n",
      "\n",
      "ENERFIN\n",
      "               return/risk  anual return\n",
      "ENERFINPF2.MX   101.696073      0.073291\n"
     ]
    }
   ],
   "source": [
    "print(\"National\")\n",
    "national = ea.returns_to_risk_ratio(ea.tickers_NC, 15, display=True)\n",
    "\n",
    "print(\"\\nInternational\")\n",
    "international = ea.returns_to_risk_ratio(ea.tickers_IC, 16, display=True)\n",
    "\n",
    "print(\"\\nFIBRAS\")\n",
    "fibras = ea.returns_to_risk_ratio(ea.tickers_F, 6, display=True)\n",
    "\n",
    "print(\"\\nBONDDIA\")\n",
    "bonddia = ea.returns_to_risk_ratio(ea.tickers_BONDDIA, 1)\n",
    "\n",
    "print(\"\\nCETES\")\n",
    "cetes = ea.returns_to_risk_ratio(ea.tickers_CETES, 1)\n",
    "\n",
    "print(\"\\nENERFIN\")\n",
    "enerfin = ea.returns_to_risk_ratio(ea.tickers_ENERFIN, 1)"
   ]
  },
  {
   "cell_type": "code",
   "execution_count": 75,
   "id": "0bac4d95-e486-4434-8bd4-eca766ff93a7",
   "metadata": {},
   "outputs": [],
   "source": [
    "top_ticks = np.concatenate([national, international, \n",
    "                                 fibras, bonddia, cetes, enerfin])\n",
    "\n",
    "top_anual_returns = ea.anual_returns[top_ticks]\n",
    "top_daily_returns = ea.daily_returns[top_ticks]\n",
    "top_closing_prices = ea.all_data[top_ticks]"
   ]
  },
  {
   "cell_type": "code",
   "execution_count": 76,
   "id": "61d34ba2-08ea-41d1-b80c-d7483be2728b",
   "metadata": {},
   "outputs": [
    {
     "name": "stdout",
     "output_type": "stream",
     "text": [
      "best fitness in population: 0.38808675480894966\n",
      "risk: 9.861%\n"
     ]
    }
   ],
   "source": [
    "top_cov_matrix = top_daily_returns.cov()\n",
    "\n",
    "population = ea.random_search(top_cov_matrix)\n",
    "\n",
    "fitness_vals = np.zeros(len(population))\n",
    "for i, chromosome in enumerate(population):\n",
    "    fitness_vals[i] = expected_returns(chromosome, top_anual_returns)\n",
    "\n",
    "best = population[np.argmax(fitness_vals)]\n",
    "\n",
    "print(f'best fitness in population: {fitness_vals.max()}')\n",
    "print(f'risk: {round(risk(best, top_cov_matrix), 3)}%')"
   ]
  },
  {
   "cell_type": "markdown",
   "id": "7145cdd7-aafc-421e-920d-76a27a295d40",
   "metadata": {},
   "source": [
    "## Benchmark: ETF (VMEX)"
   ]
  },
  {
   "cell_type": "code",
   "execution_count": 138,
   "id": "758be853-1302-466c-a6fe-c91b836fbb6b",
   "metadata": {},
   "outputs": [
    {
     "name": "stderr",
     "output_type": "stream",
     "text": [
      "e:\\documents\\ming\\intro to evolutionary computation\\proyecto final\\EA_funcs\\utils.py:18: FutureWarning: YF.download() has changed argument auto_adjust default to True\n",
      "  data = yf.download(tickers, start=start, end=end)['Close']\n",
      "[*********************100%***********************]  43 of 43 completed\n",
      "\n",
      "1 Failed download:\n",
      "['AGUILASCPO.MX']: YFPricesMissingError('possibly delisted; no price data found  (1d 2021-01-01 -> 2024-04-05) (Yahoo error = \"Data doesn\\'t exist for startDate = 1609480800, endDate = 1712296800\")')\n"
     ]
    }
   ],
   "source": [
    "start = '2021-01-01'\n",
    "end = '2024-04-05'\n",
    "\n",
    "benchmark = pd.read_csv(\"../data/benchmark.csv\")\n",
    "ticks = benchmark[\"Tickers\"].to_list()\n",
    "\n",
    "benchmark_closing_prices = ea.get_historical_data(ticks, start, end)\n",
    "\n",
    "benchmark_daily_returns= benchmark_closing_prices.pct_change().dropna()\n",
    "benchmark_anual_returns = benchmark_daily_returns.sum() / len(daily_returns) * 252\n",
    "\n",
    "benchmark_cov_matrix = benchmark_daily_returns.cov()"
   ]
  },
  {
   "cell_type": "code",
   "execution_count": 141,
   "id": "75922c2a-0610-471e-afed-302031d61ecf",
   "metadata": {},
   "outputs": [
    {
     "name": "stdout",
     "output_type": "stream",
     "text": [
      "best fitness in population: 0.2297214336932775\n",
      "risk: 13.989%\n"
     ]
    }
   ],
   "source": [
    "population = ea.random_search(benchmark_cov_matrix, num_chromosomes=int(1e6))\n",
    "\n",
    "fitness_vals = np.zeros(len(population))\n",
    "for i, chromosome in enumerate(population):\n",
    "    fitness_vals[i] = expected_returns(chromosome, benchmark_anual_returns)\n",
    "\n",
    "best = population[np.argmax(fitness_vals)]\n",
    "\n",
    "print(f'best fitness in population: {fitness_vals.max()}')\n",
    "print(f'risk: {round(risk(best, benchmark_cov_matrix), 3)}%')"
   ]
  },
  {
   "cell_type": "code",
   "execution_count": null,
   "id": "fda0f092-29c5-4c0e-b598-55c12cf0edf4",
   "metadata": {},
   "outputs": [],
   "source": []
  }
 ],
 "metadata": {
  "kernelspec": {
   "display_name": "Python 3 (ipykernel)",
   "language": "python",
   "name": "python3"
  },
  "language_info": {
   "codemirror_mode": {
    "name": "ipython",
    "version": 3
   },
   "file_extension": ".py",
   "mimetype": "text/x-python",
   "name": "python",
   "nbconvert_exporter": "python",
   "pygments_lexer": "ipython3",
   "version": "3.12.5"
  }
 },
 "nbformat": 4,
 "nbformat_minor": 5
}
