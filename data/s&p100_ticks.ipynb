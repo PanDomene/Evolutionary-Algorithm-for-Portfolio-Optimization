{
 "cells": [
  {
   "cell_type": "markdown",
   "id": "156751c5-0168-4bef-aa7c-a0ec8575c60c",
   "metadata": {},
   "source": [
    "# S&P 100 assets from january 2021\n",
    "\n",
    "Used `https://web.archive.org/` to search for the january 2021 version of `https://en.wikipedia.org/wiki/S%26P_100`, passed the table to ChatGPT for it to convert it into a list, and pasted it below. With this list we can create a csv containing the relevant ticks, which can be used to download the necessary data."
   ]
  },
  {
   "cell_type": "code",
   "execution_count": 1,
   "id": "010005a6-6b9b-46a0-b9d4-79604c8e3fdf",
   "metadata": {},
   "outputs": [],
   "source": [
    "import pandas as pd"
   ]
  },
  {
   "cell_type": "code",
   "execution_count": 2,
   "id": "714c4d8c-1126-41a7-a549-1796555ed6b3",
   "metadata": {},
   "outputs": [],
   "source": [
    "tickers_2021 = [\n",
    "    \"AAPL\", \"ABBV\", \"ABT\", \"ACN\", \"ADBE\", \"AIG\", \"ALL\", \"AMGN\", \"AMT\", \"AMZN\",\n",
    "    \"AXP\", \"BA\", \"BAC\", \"BIIB\", \"BK\", \"BKNG\", \"BLK\", \"BMY\", \"BRK-B\", \"C\",\n",
    "    \"CAT\", \"CHTR\", \"CL\", \"CMCSA\", \"COF\", \"COP\", \"COST\", \"CRM\", \"CSCO\", \"CVS\",\n",
    "    \"CVX\", \"DD\", \"DHR\", \"DIS\", \"DOW\", \"DUK\", \"EMR\", \"EXC\", \"F\", \"FB\", \"FDX\",\n",
    "    \"GD\", \"GE\", \"GILD\", \"GM\", \"GOOG\", \"GOOGL\", \"GS\", \"HD\", \"HON\", \"IBM\",\n",
    "    \"INTC\", \"JNJ\", \"JPM\", \"KHC\", \"KMI\", \"KO\", \"LLY\", \"LMT\", \"LOW\", \"MA\",\n",
    "    \"MCD\", \"MDLZ\", \"MDT\", \"MET\", \"MMM\", \"MO\", \"MRK\", \"MS\", \"MSFT\", \"NEE\",\n",
    "    \"NFLX\", \"NKE\", \"NVDA\", \"ORCL\", \"PEP\", \"PFE\", \"PG\", \"PM\", \"PYPL\", \"QCOM\",\n",
    "    \"RTX\", \"SBUX\", \"SLB\", \"SO\", \"SPG\", \"T\", \"TGT\", \"TMO\", \"TSLA\", \"TXN\",\n",
    "    \"UNH\", \"UNP\", \"UPS\", \"USB\", \"V\", \"VZ\", \"WBA\", \"WFC\", \"WMT\", \"XOM\"\n",
    "]\n",
    "\n",
    "df = pd.DataFrame(tickers_2021, columns=[\"Ticker\"])\n",
    "df.to_csv(\"sp100_2021.csv\", index=False)"
   ]
  }
 ],
 "metadata": {
  "kernelspec": {
   "display_name": "Python 3 (ipykernel)",
   "language": "python",
   "name": "python3"
  },
  "language_info": {
   "codemirror_mode": {
    "name": "ipython",
    "version": 3
   },
   "file_extension": ".py",
   "mimetype": "text/x-python",
   "name": "python",
   "nbconvert_exporter": "python",
   "pygments_lexer": "ipython3",
   "version": "3.12.5"
  }
 },
 "nbformat": 4,
 "nbformat_minor": 5
}
